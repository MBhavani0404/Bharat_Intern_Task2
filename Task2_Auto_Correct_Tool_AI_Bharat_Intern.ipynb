{
 "cells": [
  {
   "cell_type": "markdown",
   "id": "d7780e76",
   "metadata": {},
   "source": [
    "# Bharat Intern\n",
    "\n",
    "**Name:Mekkanti Bhavani**\n",
    "<br>\n",
    "**Task2:Auto Correct Tool**\n",
    "<br>\n",
    "In this task the AI must correct the word or give the word which is nearest to it."
   ]
  },
  {
   "cell_type": "markdown",
   "id": "2b0a4112",
   "metadata": {},
   "source": [
    "**Step 1: Install the necessary library**"
   ]
  },
  {
   "cell_type": "code",
   "execution_count": 1,
   "id": "fa177870",
   "metadata": {},
   "outputs": [
    {
     "name": "stdout",
     "output_type": "stream",
     "text": [
      "Requirement already satisfied: nltk in c:\\users\\mekka\\anaconda3\\lib\\site-packages (3.7)\n",
      "Requirement already satisfied: joblib in c:\\users\\mekka\\anaconda3\\lib\\site-packages (from nltk) (1.1.0)\n",
      "Requirement already satisfied: click in c:\\users\\mekka\\anaconda3\\lib\\site-packages (from nltk) (8.0.4)\n",
      "Requirement already satisfied: regex>=2021.8.3 in c:\\users\\mekka\\anaconda3\\lib\\site-packages (from nltk) (2022.3.15)\n",
      "Requirement already satisfied: tqdm in c:\\users\\mekka\\anaconda3\\lib\\site-packages (from nltk) (4.64.0)\n",
      "Requirement already satisfied: colorama in c:\\users\\mekka\\anaconda3\\lib\\site-packages (from click->nltk) (0.4.4)\n"
     ]
    }
   ],
   "source": [
    "!pip install nltk"
   ]
  },
  {
   "cell_type": "markdown",
   "id": "07435727",
   "metadata": {},
   "source": [
    "**Step 2: Import Libraries and Download the NLTK Words Corpus**"
   ]
  },
  {
   "cell_type": "code",
   "execution_count": 2,
   "id": "b25c3ada",
   "metadata": {},
   "outputs": [
    {
     "name": "stderr",
     "output_type": "stream",
     "text": [
      "[nltk_data] Downloading package words to\n",
      "[nltk_data]     C:\\Users\\mekka\\AppData\\Roaming\\nltk_data...\n",
      "[nltk_data]   Unzipping corpora\\words.zip.\n"
     ]
    },
    {
     "data": {
      "text/plain": [
       "True"
      ]
     },
     "execution_count": 2,
     "metadata": {},
     "output_type": "execute_result"
    }
   ],
   "source": [
    "import nltk\n",
    "from nltk.corpus import words\n",
    "import numpy as np\n",
    "\n",
    "nltk.download('words')"
   ]
  },
  {
   "cell_type": "markdown",
   "id": "423b26ca",
   "metadata": {},
   "source": [
    " **Step 3: Create the Auto-Correct Function**"
   ]
  },
  {
   "cell_type": "code",
   "execution_count": 3,
   "id": "70997355",
   "metadata": {},
   "outputs": [],
   "source": [
    "def auto_correct(word):\n",
    "    # Get all words from the NLTK words corpus\n",
    "    word_list = words.words()\n",
    "    \n",
    "    # Calculate Levenshtein distance for each word\n",
    "    distances = [(w, nltk.edit_distance(word, w)) for w in word_list]\n",
    "    \n",
    "    # Sort words based on Levenshtein distance\n",
    "    distances.sort(key=lambda x: x[1])\n",
    "    \n",
    "    # Return the word with the smallest distance (i.e., the closest match)\n",
    "    return distances[0][0]"
   ]
  },
  {
   "cell_type": "markdown",
   "id": "7ebbce36",
   "metadata": {},
   "source": [
    "**Step 4: Test the Auto-Correct Function**"
   ]
  },
  {
   "cell_type": "code",
   "execution_count": 4,
   "id": "1f2a33f1",
   "metadata": {},
   "outputs": [
    {
     "name": "stdout",
     "output_type": "stream",
     "text": [
      "Misspelled Word: applicaton\n",
      "Corrected Word: application\n"
     ]
    }
   ],
   "source": [
    "misspelled_word = \"applicaton\"\n",
    "corrected_word = auto_correct(misspelled_word)\n",
    "print(f\"Misspelled Word: {misspelled_word}\")\n",
    "print(f\"Corrected Word: {corrected_word}\")"
   ]
  },
  {
   "cell_type": "markdown",
   "id": "37111994",
   "metadata": {},
   "source": [
    "**Step 5: Test with Another Misspelled Word**"
   ]
  },
  {
   "cell_type": "code",
   "execution_count": 5,
   "id": "9f6afdb5",
   "metadata": {},
   "outputs": [
    {
     "name": "stdout",
     "output_type": "stream",
     "text": [
      "Misspelled Word: tehcnology\n",
      "Corrected Word: tecnology\n"
     ]
    }
   ],
   "source": [
    "misspelled_word2 = \"tehcnology\"\n",
    "corrected_word2 = auto_correct(misspelled_word2)\n",
    "print(f\"Misspelled Word: {misspelled_word2}\")\n",
    "print(f\"Corrected Word: {corrected_word2}\")"
   ]
  },
  {
   "cell_type": "markdown",
   "id": "9aa798c5",
   "metadata": {},
   "source": [
    "**Step 6: Test with a Properly Spelled Word**"
   ]
  },
  {
   "cell_type": "code",
   "execution_count": 6,
   "id": "1b30a548",
   "metadata": {},
   "outputs": [
    {
     "name": "stdout",
     "output_type": "stream",
     "text": [
      "Correctly Spelled Word: machine\n",
      "Corrected Word: machine\n"
     ]
    }
   ],
   "source": [
    "correctly_spelled_word = \"machine\"\n",
    "corrected_word3 = auto_correct(correctly_spelled_word)\n",
    "print(f\"Correctly Spelled Word: {correctly_spelled_word}\")\n",
    "print(f\"Corrected Word: {corrected_word3}\")"
   ]
  }
 ],
 "metadata": {
  "kernelspec": {
   "display_name": "Python 3 (ipykernel)",
   "language": "python",
   "name": "python3"
  },
  "language_info": {
   "codemirror_mode": {
    "name": "ipython",
    "version": 3
   },
   "file_extension": ".py",
   "mimetype": "text/x-python",
   "name": "python",
   "nbconvert_exporter": "python",
   "pygments_lexer": "ipython3",
   "version": "3.9.12"
  }
 },
 "nbformat": 4,
 "nbformat_minor": 5
}
